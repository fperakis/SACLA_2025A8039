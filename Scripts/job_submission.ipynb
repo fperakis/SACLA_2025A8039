{
 "cells": [
  {
   "cell_type": "code",
   "execution_count": 1,
   "id": "9e69b802-aa4c-442f-813c-a792336a462d",
   "metadata": {},
   "outputs": [],
   "source": [
    "import subprocess\n"
   ]
  },
  {
   "cell_type": "code",
   "execution_count": 2,
   "id": "e12c1cf0-f502-4686-97d5-bb9afed5ed22",
   "metadata": {},
   "outputs": [],
   "source": [
    "# --- User-defined parameters ---\n",
    "data_path = \"/xustrg0/2024B8049\"\n",
    "run_number = \"0023\"\n",
    "mask_path = \"/UserData/fperakis/test_data_2025/utilities/empty_mask.npy\"\n",
    "output_path = \"/UserData/fperakis/test_data_2025/processed\"\n",
    "poni_file = \"/UserData/fperakis/test_data_2025/utilities/geometry_final.poni\"\n",
    "\n",
    "nbins = 150\n",
    "n_phi = 72\n",
    "n_chunks = 10\n",
    "\n"
   ]
  },
  {
   "cell_type": "code",
   "execution_count": null,
   "id": "dd7355f3-2b69-484c-8667-032eb626dea0",
   "metadata": {},
   "outputs": [],
   "source": [
    "pbs_script = \"submit_chunk.pbs\"  # Assumes it's in the current working directory\n",
    "\n",
    "# --- Submit jobs for each chunk ---\n",
    "for chunk_index in range(n_chunks):\n",
    "    job_command = [\n",
    "        \"qsub\",\n",
    "        \"-v\",\n",
    "        f\"DATA_PATH={data_path},\"\n",
    "        f\"RUN_NUMBER={run_number},\"\n",
    "        f\"MASK_PATH={mask_path},\"\n",
    "        f\"OUTPUT_PATH={output_path},\"\n",
    "        f\"PONI_FILE={poni_file},\"\n",
    "        f\"NBINS={nbins},\"\n",
    "        f\"N_PHI={n_phi},\"\n",
    "        f\"N_CHUNKS={n_chunks},\"\n",
    "        f\"CHUNK_INDEX={chunk_index}\",\n",
    "        pbs_script\n",
    "    ]\n",
    "    \n",
    "    print(f\"Submitting chunk {chunk_index + 1}/{n_chunks}...\")\n",
    "    result = subprocess.run(job_command, capture_output=True, text=True)\n",
    "    \n",
    "    if result.returncode == 0:\n",
    "        print(f\"Submitted successfully: {result.stdout.strip()}\")\n",
    "    else:\n",
    "        print(f\"Failed to submit chunk {chunk_index}: {result.stderr.strip()}\")\n"
   ]
  }
 ],
 "metadata": {
  "kernelspec": {
   "display_name": "Python 3 (ipykernel)",
   "language": "python",
   "name": "python3"
  },
  "language_info": {
   "codemirror_mode": {
    "name": "ipython",
    "version": 3
   },
   "file_extension": ".py",
   "mimetype": "text/x-python",
   "name": "python",
   "nbconvert_exporter": "python",
   "pygments_lexer": "ipython3",
   "version": "3.7.9"
  }
 },
 "nbformat": 4,
 "nbformat_minor": 5
}
