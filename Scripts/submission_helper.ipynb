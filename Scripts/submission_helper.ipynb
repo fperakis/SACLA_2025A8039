{
 "cells": [
  {
   "cell_type": "code",
   "execution_count": 53,
   "id": "9e69b802-aa4c-442f-813c-a792336a462d",
   "metadata": {},
   "outputs": [],
   "source": [
    "import subprocess\n",
    "import re\n",
    "from pathlib import Path\n",
    "import time"
   ]
  },
  {
   "cell_type": "code",
   "execution_count": 42,
   "id": "e12c1cf0-f502-4686-97d5-bb9afed5ed22",
   "metadata": {},
   "outputs": [],
   "source": [
    "# === Configuration ===\n",
    "data_path = \"/xustrg0/2024B8049\"\n",
    "run_number = \"222753\"\n",
    "process_path = \"/UserData/fperakis/test_data_2025/\"\n",
    "mask_path = process_path+\"utilities/empty_mask.npy\"\n",
    "output_path = process_path+\"processed\"\n",
    "poni_file = process_path+\"utilities/geometry_test.poni\"\n",
    "nbins = 150\n",
    "n_phi = 72\n",
    "n_chunks = 10  # total number of chunks"
   ]
  },
  {
   "cell_type": "code",
   "execution_count": 44,
   "id": "c57e9336-5904-4f69-89c1-066fbd444283",
   "metadata": {},
   "outputs": [
    {
     "name": "stdout",
     "output_type": "stream",
     "text": [
      "\n",
      "Array job submitted with ID: 8421956\n"
     ]
    }
   ],
   "source": [
    "# === Submit array job ===\n",
    "env_vars = \",\".join([\n",
    "    f\"DATA_PATH={data_path}\",\n",
    "    f\"RUN_NUMBER={run_number}\",\n",
    "    f\"MASK_PATH={mask_path}\",\n",
    "    f\"OUTPUT_PATH={output_path}\",\n",
    "    f\"PONI_FILE={poni_file}\",\n",
    "    f\"NBINS={nbins}\",\n",
    "    f\"N_PHI={n_phi}\",\n",
    "    f\"N_CHUNKS={n_chunks}\"\n",
    "])\n",
    "\n",
    "submit_cmd = [\n",
    "    \"qsub\", \"-J\", f\"0-{n_chunks-1}\",\n",
    "    \"-v\", env_vars,\n",
    "    \"submit_chunk.pbs\"\n",
    "]\n",
    "\n",
    "array_result = subprocess.run(submit_cmd, capture_output=True, text=True)\n",
    "\n",
    "# === Extract array job ID ===\n",
    "match = re.search(r\"(\\d+)\", array_result.stdout)\n",
    "if not match:\n",
    "    raise RuntimeError(\"Failed to parse array job ID. Output:\\n\" + array_result.stdout)\n",
    "\n",
    "array_job_id = match.group(1)\n",
    "print(f\"\\nArray job submitted with ID: {array_job_id}\")\n",
    "\n"
   ]
  },
  {
   "cell_type": "code",
   "execution_count": 54,
   "id": "587a2ca2-50b2-4d8c-b99d-339dc912be3a",
   "metadata": {},
   "outputs": [],
   "source": [
    "# === Check job status ===\n",
    "!qstat -u fperakis"
   ]
  },
  {
   "cell_type": "code",
   "execution_count": 55,
   "id": "d190384f-ed3d-4e2b-b454-956af98e4037",
   "metadata": {},
   "outputs": [
    {
     "name": "stdout",
     "output_type": "stream",
     "text": [
      "total 865792\n",
      "-rw-r--r-- 1 fperakis nilsson  51843824 May 15 22:46 Iq_222753_chunk00.h5\n",
      "-rw-r--r-- 1 fperakis nilsson  51843824 May 15 22:46 Iq_222753_chunk01.h5\n",
      "-rw-r--r-- 1 fperakis nilsson  51843824 May 15 22:46 Iq_222753_chunk02.h5\n",
      "-rw-r--r-- 1 fperakis nilsson  51843824 May 15 22:46 Iq_222753_chunk03.h5\n",
      "-rw-r--r-- 1 fperakis nilsson  51843824 May 15 22:46 Iq_222753_chunk04.h5\n",
      "-rw-r--r-- 1 fperakis nilsson  51843824 May 15 22:46 Iq_222753_chunk05.h5\n",
      "-rw-r--r-- 1 fperakis nilsson  51843824 May 15 22:46 Iq_222753_chunk06.h5\n",
      "-rw-r--r-- 1 fperakis nilsson  51843824 May 15 22:46 Iq_222753_chunk07.h5\n",
      "-rw-r--r-- 1 fperakis nilsson  51843824 May 15 22:46 Iq_222753_chunk08.h5\n",
      "-rw-r--r-- 1 fperakis nilsson  51757424 May 15 22:46 Iq_222753_chunk09.h5\n",
      "-rw-r--r-- 1 fperakis nilsson 518317424 May 15 22:29 Iq_222753_combined.h5\n"
     ]
    }
   ],
   "source": [
    "!ls -l /UserData/fperakis/test_data_2025/processed/"
   ]
  },
  {
   "cell_type": "code",
   "execution_count": 56,
   "id": "cc27f3aa-7959-4d1e-ba94-8ce93ebd074a",
   "metadata": {},
   "outputs": [
    {
     "name": "stdout",
     "output_type": "stream",
     "text": [
      "Merge job submitted successfully with job ID: 8421960.fep01\n"
     ]
    }
   ],
   "source": [
    "# === Submit dependent merge job ===\n",
    "\n",
    "# Define parameters\n",
    "output_file = Path(output_path) / f\"Iq_{run_number}_combined.h5\"\n",
    "\n",
    "# Submit the PBS job\n",
    "merge_cmd = [\n",
    "    \"qsub\",\n",
    "    #\"-W\", f\"depend=afterokarray:{array_job_id}\",\n",
    "    \"-v\", f\"INPUT_DIR={Path(output_path)},RUN_NUMBER={run_number},OUTPUT_FILE={output_file}\",\n",
    "    \"combine_chunks.pbs\"\n",
    "]\n",
    "\n",
    "result = subprocess.run(merge_cmd, capture_output=True, text=True)\n",
    "\n",
    "# Output results\n",
    "if result.returncode == 0:\n",
    "    merge_job_id = result.stdout.strip()\n",
    "    print(f\"Merge job submitted successfully with job ID: {merge_job_id}\")\n",
    "else:\n",
    "    print(\"Failed to submit merge job.\")\n",
    "    print(result.stderr)"
   ]
  },
  {
   "cell_type": "code",
   "execution_count": 58,
   "id": "1288dfc3-0e0f-4a63-a52b-06f5292277fe",
   "metadata": {},
   "outputs": [
    {
     "name": "stdout",
     "output_type": "stream",
     "text": [
      "total 145920\n",
      "-rw-r--r-- 1 fperakis nilsson 518317424 May 15 22:47 Iq_222753_combined.h5\n"
     ]
    }
   ],
   "source": [
    "!ls -l /UserData/fperakis/test_data_2025/processed/"
   ]
  },
  {
   "cell_type": "code",
   "execution_count": 59,
   "id": "f124c8fd-4e08-4b50-82ec-3ee1d59b2827",
   "metadata": {},
   "outputs": [
    {
     "data": {
      "text/plain": [
       "'8421956'"
      ]
     },
     "execution_count": 59,
     "metadata": {},
     "output_type": "execute_result"
    }
   ],
   "source": [
    "array_job_id"
   ]
  },
  {
   "cell_type": "code",
   "execution_count": null,
   "id": "035c9da8-e3a5-473c-a38f-5722cb4d0008",
   "metadata": {},
   "outputs": [],
   "source": []
  }
 ],
 "metadata": {
  "kernelspec": {
   "display_name": "Python 3 (ipykernel)",
   "language": "python",
   "name": "python3"
  },
  "language_info": {
   "codemirror_mode": {
    "name": "ipython",
    "version": 3
   },
   "file_extension": ".py",
   "mimetype": "text/x-python",
   "name": "python",
   "nbconvert_exporter": "python",
   "pygments_lexer": "ipython3",
   "version": "3.7.9"
  }
 },
 "nbformat": 4,
 "nbformat_minor": 5
}
