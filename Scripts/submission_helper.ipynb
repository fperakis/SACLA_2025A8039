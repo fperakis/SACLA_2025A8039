{
 "cells": [
  {
   "cell_type": "code",
   "execution_count": 10,
   "id": "9e69b802-aa4c-442f-813c-a792336a462d",
   "metadata": {
    "tags": []
   },
   "outputs": [],
   "source": [
    "import subprocess\n",
    "import re\n",
    "from pathlib import Path\n",
    "import time"
   ]
  },
  {
   "cell_type": "code",
   "execution_count": 66,
   "id": "e12c1cf0-f502-4686-97d5-bb9afed5ed22",
   "metadata": {
    "tags": []
   },
   "outputs": [],
   "source": [
    "# === Configuration ===\n",
    "run_numbers = [str(i) for i in range(234095, 234149)]\n",
    "\n",
    "# - paths -\n",
    "data_path = \"/xustrg0/2025A8039\"\n",
    "process_path = \"/UserData/andronis/test_data/\"\n",
    "output_path = process_path+\"processed\"\n",
    "mask_path = \"/home/myeongsik/mask_234110.npy\"\n",
    "poni_file = \"/home/seoyoung/2025_05_SACLA/results/avg_img/run234059_avg_img.poni\"\n",
    "\n",
    "# -- optional arguments -- \n",
    "nbins = 250  # number of q-bins\n",
    "n_phi = 36   # number of phi-bins\n",
    "n_chunks = 10  # total number of chunks"
   ]
  },
  {
   "cell_type": "code",
   "execution_count": 67,
   "id": "e6c20899-aa3c-4021-8063-4ee7dcdb812c",
   "metadata": {
    "scrolled": true,
    "tags": []
   },
   "outputs": [
    {
     "name": "stdout",
     "output_type": "stream",
     "text": [
      "Array job submitted with ID: 8489505\n",
      "Merge job submitted successfully with job ID: 8489506.fep01\n",
      "Array job submitted with ID: 8489507\n",
      "Merge job submitted successfully with job ID: 8489508.fep01\n",
      "Array job submitted with ID: 8489509\n",
      "Merge job submitted successfully with job ID: 8489510.fep01\n",
      "Array job submitted with ID: 8489511\n",
      "Merge job submitted successfully with job ID: 8489512.fep01\n",
      "Array job submitted with ID: 8489513\n",
      "Merge job submitted successfully with job ID: 8489514.fep01\n",
      "Array job submitted with ID: 8489515\n",
      "Merge job submitted successfully with job ID: 8489516.fep01\n",
      "Array job submitted with ID: 8489517\n",
      "Merge job submitted successfully with job ID: 8489518.fep01\n",
      "Array job submitted with ID: 8489519\n",
      "Merge job submitted successfully with job ID: 8489520.fep01\n",
      "Array job submitted with ID: 8489521\n",
      "Merge job submitted successfully with job ID: 8489522.fep01\n",
      "Array job submitted with ID: 8489523\n",
      "Merge job submitted successfully with job ID: 8489524.fep01\n",
      "Array job submitted with ID: 8489525\n",
      "Merge job submitted successfully with job ID: 8489526.fep01\n",
      "Array job submitted with ID: 8489527\n",
      "Merge job submitted successfully with job ID: 8489528.fep01\n",
      "Array job submitted with ID: 8489529\n",
      "Merge job submitted successfully with job ID: 8489530.fep01\n",
      "Array job submitted with ID: 8489531\n",
      "Merge job submitted successfully with job ID: 8489532.fep01\n",
      "Array job submitted with ID: 8489533\n",
      "Merge job submitted successfully with job ID: 8489534.fep01\n",
      "Array job submitted with ID: 8489535\n",
      "Merge job submitted successfully with job ID: 8489536.fep01\n",
      "Array job submitted with ID: 8489537\n",
      "Merge job submitted successfully with job ID: 8489538.fep01\n",
      "Array job submitted with ID: 8489539\n",
      "Merge job submitted successfully with job ID: 8489540.fep01\n",
      "Array job submitted with ID: 8489541\n",
      "Merge job submitted successfully with job ID: 8489542.fep01\n",
      "Array job submitted with ID: 8489543\n",
      "Merge job submitted successfully with job ID: 8489544.fep01\n",
      "Array job submitted with ID: 8489545\n",
      "Merge job submitted successfully with job ID: 8489546.fep01\n",
      "Array job submitted with ID: 8489547\n",
      "Merge job submitted successfully with job ID: 8489548.fep01\n",
      "Array job submitted with ID: 8489549\n",
      "Merge job submitted successfully with job ID: 8489550.fep01\n",
      "Array job submitted with ID: 8489551\n",
      "Merge job submitted successfully with job ID: 8489552.fep01\n",
      "Array job submitted with ID: 8489553\n",
      "Merge job submitted successfully with job ID: 8489554.fep01\n",
      "Array job submitted with ID: 8489555\n",
      "Merge job submitted successfully with job ID: 8489556.fep01\n",
      "Array job submitted with ID: 8489557\n",
      "Merge job submitted successfully with job ID: 8489558.fep01\n",
      "Array job submitted with ID: 8489559\n",
      "Merge job submitted successfully with job ID: 8489560.fep01\n",
      "Array job submitted with ID: 8489561\n",
      "Merge job submitted successfully with job ID: 8489562.fep01\n",
      "Array job submitted with ID: 8489563\n",
      "Merge job submitted successfully with job ID: 8489564.fep01\n",
      "Array job submitted with ID: 8489565\n",
      "Merge job submitted successfully with job ID: 8489566.fep01\n",
      "Array job submitted with ID: 8489567\n",
      "Merge job submitted successfully with job ID: 8489568.fep01\n",
      "Array job submitted with ID: 8489569\n",
      "Merge job submitted successfully with job ID: 8489570.fep01\n",
      "Array job submitted with ID: 8489571\n",
      "Merge job submitted successfully with job ID: 8489572.fep01\n",
      "Array job submitted with ID: 8489573\n",
      "Merge job submitted successfully with job ID: 8489574.fep01\n",
      "Array job submitted with ID: 8489575\n",
      "Merge job submitted successfully with job ID: 8489576.fep01\n",
      "Array job submitted with ID: 8489577\n",
      "Merge job submitted successfully with job ID: 8489578.fep01\n",
      "Array job submitted with ID: 8489579\n",
      "Merge job submitted successfully with job ID: 8489580.fep01\n",
      "Array job submitted with ID: 8489581\n",
      "Merge job submitted successfully with job ID: 8489582.fep01\n",
      "Array job submitted with ID: 8489583\n",
      "Merge job submitted successfully with job ID: 8489584.fep01\n",
      "Array job submitted with ID: 8489585\n",
      "Merge job submitted successfully with job ID: 8489586.fep01\n",
      "Array job submitted with ID: 8489587\n",
      "Merge job submitted successfully with job ID: 8489588.fep01\n",
      "Array job submitted with ID: 8489589\n",
      "Merge job submitted successfully with job ID: 8489590.fep01\n",
      "Array job submitted with ID: 8489591\n",
      "Merge job submitted successfully with job ID: 8489592.fep01\n",
      "Array job submitted with ID: 8489593\n",
      "Merge job submitted successfully with job ID: 8489594.fep01\n",
      "Array job submitted with ID: 8489595\n",
      "Merge job submitted successfully with job ID: 8489596.fep01\n",
      "Array job submitted with ID: 8489597\n",
      "Merge job submitted successfully with job ID: 8489598.fep01\n",
      "Array job submitted with ID: 8489599\n",
      "Merge job submitted successfully with job ID: 8489600.fep01\n",
      "Array job submitted with ID: 8489601\n",
      "Merge job submitted successfully with job ID: 8489602.fep01\n",
      "Array job submitted with ID: 8489603\n",
      "Merge job submitted successfully with job ID: 8489604.fep01\n",
      "Array job submitted with ID: 8489605\n",
      "Merge job submitted successfully with job ID: 8489606.fep01\n",
      "Array job submitted with ID: 8489607\n",
      "Merge job submitted successfully with job ID: 8489608.fep01\n",
      "Array job submitted with ID: 8489609\n",
      "Merge job submitted successfully with job ID: 8489610.fep01\n",
      "Array job submitted with ID: 8489611\n",
      "Merge job submitted successfully with job ID: 8489612.fep01\n"
     ]
    }
   ],
   "source": [
    "for run_number in run_numbers:\n",
    "    subprocess.run([\n",
    "        \"python\", \"process.py\",\n",
    "        \"--data_path\", data_path,\n",
    "        \"--run_number\", run_number,\n",
    "        \"--mask_path\", mask_path,\n",
    "        \"--output_path\", output_path,\n",
    "        \"--poni_file\", poni_file,\n",
    "        \"--nbins\", str(nbins),\n",
    "        \"--n_phi\", str(n_phi),\n",
    "        \"--n_chunks\", str(n_chunks)\n",
    "    ])\n"
   ]
  },
  {
   "cell_type": "code",
   "execution_count": 71,
   "id": "c57e9336-5904-4f69-89c1-066fbd444283",
   "metadata": {
    "scrolled": true,
    "tags": []
   },
   "outputs": [
    {
     "name": "stdout",
     "output_type": "stream",
     "text": [
      "\n",
      "fep01: \n",
      "                                                            Req'd  Req'd   Elap\n",
      "Job ID          Username Queue    Jobname    SessID NDS TSK Memory Time  S Time\n",
      "--------------- -------- -------- ---------- ------ --- --- ------ ----- - -----\n",
      "8489591[].fep01 andronis serial   iq_chunk      --    1   1    4gb 00:30 B   -- \n",
      "8489592.fep01   andronis serial   combine_c*    --    1   1    4gb 00:10 H   -- \n",
      "8489595[].fep01 andronis serial   iq_chunk      --    1   1    4gb 00:30 B   -- \n",
      "8489596.fep01   andronis serial   combine_c*    --    1   1    4gb 00:10 H   -- \n",
      "8489597[].fep01 andronis serial   iq_chunk      --    1   1    4gb 00:30 B   -- \n",
      "8489598.fep01   andronis serial   combine_c*    --    1   1    4gb 00:10 H   -- \n",
      "8489599[].fep01 andronis serial   iq_chunk      --    1   1    4gb 00:30 Q   -- \n",
      "8489600.fep01   andronis serial   combine_c*    --    1   1    4gb 00:10 H   -- \n",
      "8489601[].fep01 andronis serial   iq_chunk      --    1   1    4gb 00:30 Q   -- \n",
      "8489602.fep01   andronis serial   combine_c*    --    1   1    4gb 00:10 H   -- \n",
      "8489603[].fep01 andronis serial   iq_chunk      --    1   1    4gb 00:30 Q   -- \n",
      "8489604.fep01   andronis serial   combine_c*    --    1   1    4gb 00:10 H   -- \n",
      "8489605[].fep01 andronis serial   iq_chunk      --    1   1    4gb 00:30 Q   -- \n",
      "8489606.fep01   andronis serial   combine_c*    --    1   1    4gb 00:10 H   -- \n",
      "8489607[].fep01 andronis serial   iq_chunk      --    1   1    4gb 00:30 Q   -- \n",
      "8489608.fep01   andronis serial   combine_c*    --    1   1    4gb 00:10 H   -- \n",
      "8489609[].fep01 andronis serial   iq_chunk      --    1   1    4gb 00:30 Q   -- \n",
      "8489610.fep01   andronis serial   combine_c*    --    1   1    4gb 00:10 H   -- \n",
      "8489611[].fep01 andronis serial   iq_chunk      --    1   1    4gb 00:30 Q   -- \n",
      "8489612.fep01   andronis serial   combine_c*    --    1   1    4gb 00:10 H   -- \n",
      "8489622.fep01   andronis serial   get1ddata     --    1   2  5120m 24:00 Q   -- \n",
      "8489624.fep01   andronis serial   get1ddata     --    1   2  5120m 24:00 Q   -- \n"
     ]
    }
   ],
   "source": [
    "# === Check job status ===\n",
    "!qstat -u andronis"
   ]
  },
  {
   "cell_type": "code",
   "execution_count": 73,
   "id": "587a2ca2-50b2-4d8c-b99d-339dc912be3a",
   "metadata": {
    "tags": []
   },
   "outputs": [
    {
     "name": "stdout",
     "output_type": "stream",
     "text": [
      "total 18G\n",
      "-rw-r--r-- 1 andronis girelli  69M Jun 11 17:53 Iq_234095_combined.h5\n",
      "-rw-r--r-- 1 andronis girelli 412M Jun 11 17:56 Iq_234096_combined.h5\n",
      "-rw-r--r-- 1 andronis girelli 412M Jun 11 17:56 Iq_234097_combined.h5\n",
      "-rw-r--r-- 1 andronis girelli 412M Jun 11 17:58 Iq_234098_combined.h5\n",
      "-rw-r--r-- 1 andronis girelli 412M Jun 11 17:59 Iq_234099_combined.h5\n",
      "-rw-r--r-- 1 andronis girelli 282M Jun 11 17:59 Iq_234100_combined.h5\n",
      "-rw-r--r-- 1 andronis girelli  12M Jun 11 17:58 Iq_234101_combined.h5\n",
      "-rw-r--r-- 1 andronis girelli  60M Jun 11 17:59 Iq_234102_combined.h5\n",
      "-rw-r--r-- 1 andronis girelli 412M Jun 11 18:01 Iq_234103_combined.h5\n",
      "-rw-r--r-- 1 andronis girelli 412M Jun 11 18:02 Iq_234104_combined.h5\n",
      "-rw-r--r-- 1 andronis girelli 412M Jun 11 18:03 Iq_234105_combined.h5\n",
      "-rw-r--r-- 1 andronis girelli 412M Jun 11 18:04 Iq_234106_combined.h5\n",
      "-rw-r--r-- 1 andronis girelli  43M Jun 11 18:03 Iq_234107_combined.h5\n",
      "-rw-r--r-- 1 andronis girelli  92M Jun 11 18:05 Iq_234108_combined.h5\n",
      "-rw-r--r-- 1 andronis girelli 412M Jun 11 18:06 Iq_234109_combined.h5\n",
      "-rw-r--r-- 1 andronis girelli 412M Jun 11 18:06 Iq_234110_combined.h5\n",
      "-rw-r--r-- 1 andronis girelli 412M Jun 11 18:08 Iq_234111_combined.h5\n",
      "-rw-r--r-- 1 andronis girelli 412M Jun 11 18:09 Iq_234112_combined.h5\n",
      "-rw-r--r-- 1 andronis girelli 412M Jun 11 18:10 Iq_234113_combined.h5\n",
      "-rw-r--r-- 1 andronis girelli 412M Jun 11 18:11 Iq_234114_combined.h5\n",
      "-rw-r--r-- 1 andronis girelli 412M Jun 11 18:13 Iq_234115_combined.h5\n",
      "-rw-r--r-- 1 andronis girelli 412M Jun 11 18:13 Iq_234116_combined.h5\n",
      "-rw-r--r-- 1 andronis girelli 412M Jun 11 18:15 Iq_234117_combined.h5\n",
      "-rw-r--r-- 1 andronis girelli 206M Jun 11 18:15 Iq_234118_combined.h5\n",
      "-rw-r--r-- 1 andronis girelli 412M Jun 11 18:16 Iq_234119_combined.h5\n",
      "-rw-r--r-- 1 andronis girelli 412M Jun 11 18:17 Iq_234120_combined.h5\n",
      "-rw-r--r-- 1 andronis girelli 412M Jun 11 18:19 Iq_234121_combined.h5\n",
      "-rw-r--r-- 1 andronis girelli 206M Jun 11 18:19 Iq_234122_combined.h5\n",
      "-rw-r--r-- 1 andronis girelli 137M Jun 11 18:19 Iq_234123_combined.h5\n",
      "-rw-r--r-- 1 andronis girelli 412M Jun 11 18:21 Iq_234124_combined.h5\n",
      "-rw-r--r-- 1 andronis girelli 412M Jun 11 18:21 Iq_234125_combined.h5\n",
      "-rw-r--r-- 1 andronis girelli 224M Jun 11 18:22 Iq_234126_combined.h5\n",
      "-rw-r--r-- 1 andronis girelli 412M Jun 11 18:24 Iq_234127_combined.h5\n",
      "-rw-r--r-- 1 andronis girelli 206M Jun 11 18:23 Iq_234128_combined.h5\n",
      "-rw-r--r-- 1 andronis girelli 206M Jun 11 18:24 Iq_234129_combined.h5\n",
      "-rw-r--r-- 1 andronis girelli 206M Jun 11 18:25 Iq_234130_combined.h5\n",
      "-rw-r--r-- 1 andronis girelli 146M Jun 11 18:25 Iq_234131_combined.h5\n",
      "-rw-r--r-- 1 andronis girelli 412M Jun 11 18:27 Iq_234132_combined.h5\n",
      "-rw-r--r-- 1 andronis girelli 239M Jun 11 18:27 Iq_234133_combined.h5\n",
      "-rw-r--r-- 1 andronis girelli 412M Jun 11 18:29 Iq_234134_combined.h5\n",
      "-rw-r--r-- 1 andronis girelli 412M Jun 11 18:29 Iq_234135_combined.h5\n",
      "-rw-r--r-- 1 andronis girelli 412M Jun 11 18:31 Iq_234136_combined.h5\n",
      "-rw-r--r-- 1 andronis girelli 255M Jun 11 18:31 Iq_234137_combined.h5\n",
      "-rw-r--r-- 1 andronis girelli 412M Jun 11 18:33 Iq_234138_combined.h5\n",
      "-rw-r--r-- 1 andronis girelli  79M Jun 11 18:31 Iq_234139_combined.h5\n",
      "-rw-r--r-- 1 andronis girelli 412M Jun 11 18:34 Iq_234140_combined.h5\n",
      "-rw-r--r-- 1 andronis girelli 412M Jun 11 18:35 Iq_234141_combined.h5\n",
      "-rw-r--r-- 1 andronis girelli 412M Jun 11 18:36 Iq_234142_combined.h5\n",
      "-rw-r--r-- 1 andronis girelli 412M Jun 11 18:37 Iq_234143_combined.h5\n",
      "-rw-r--r-- 1 andronis girelli 412M Jun 11 18:38 Iq_234144_combined.h5\n",
      "-rw-r--r-- 1 andronis girelli  42M Jun 11 18:38 Iq_234145_chunk00.h5\n",
      "-rw-r--r-- 1 andronis girelli  42M Jun 11 18:38 Iq_234145_chunk01.h5\n",
      "-rw-r--r-- 1 andronis girelli  42M Jun 11 18:38 Iq_234145_chunk02.h5\n",
      "-rw-r--r-- 1 andronis girelli  42M Jun 11 18:39 Iq_234145_chunk03.h5\n",
      "-rw-r--r-- 1 andronis girelli  42M Jun 11 18:39 Iq_234145_chunk04.h5\n",
      "-rw-r--r-- 1 andronis girelli  42M Jun 11 18:39 Iq_234145_chunk05.h5\n",
      "-rw-r--r-- 1 andronis girelli  42M Jun 11 18:39 Iq_234145_chunk06.h5\n",
      "-rw-r--r-- 1 andronis girelli  42M Jun 11 18:39 Iq_234145_chunk07.h5\n",
      "-rw-r--r-- 1 andronis girelli  42M Jun 11 18:39 Iq_234145_chunk08.h5\n",
      "-rw-r--r-- 1 andronis girelli 412M Jun 11 17:51 Iq_234145_combined.h5\n",
      "-rw-r--r-- 1 andronis girelli 412M Jun 11 17:52 Iq_234146_combined.h5\n",
      "-rw-r--r-- 1 andronis girelli 412M Jun 11 17:53 Iq_234147_combined.h5\n",
      "-rw-r--r-- 1 andronis girelli 412M Jun 11 17:54 Iq_234148_combined.h5\n"
     ]
    }
   ],
   "source": [
    "!ls -lh /UserData/andronis/test_data/processed/"
   ]
  },
  {
   "cell_type": "code",
   "execution_count": null,
   "id": "90a3fb5c-34a8-4ad0-8324-445307456b16",
   "metadata": {},
   "outputs": [],
   "source": []
  },
  {
   "cell_type": "code",
   "execution_count": null,
   "id": "0eab6727-7ec3-4ab2-a6f5-c6eaae3a9915",
   "metadata": {},
   "outputs": [
    {
     "name": "stdout",
     "output_type": "stream",
     "text": [
      "rm: cannot remove '/UserData/girelli/sacla2024/processed/processed/': Is a directory\n"
     ]
    }
   ],
   "source": []
  },
  {
   "cell_type": "code",
   "execution_count": null,
   "id": "fa572b8d-af8f-4de1-9137-3bace77d89fb",
   "metadata": {},
   "outputs": [],
   "source": []
  }
 ],
 "metadata": {
  "kernelspec": {
   "display_name": "Python 3 (ipykernel)",
   "language": "python",
   "name": "python3"
  },
  "language_info": {
   "codemirror_mode": {
    "name": "ipython",
    "version": 3
   },
   "file_extension": ".py",
   "mimetype": "text/x-python",
   "name": "python",
   "nbconvert_exporter": "python",
   "pygments_lexer": "ipython3",
   "version": "3.7.9"
  }
 },
 "nbformat": 4,
 "nbformat_minor": 5
}
