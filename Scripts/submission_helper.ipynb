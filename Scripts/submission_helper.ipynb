{
 "cells": [
  {
   "cell_type": "code",
   "execution_count": 118,
   "id": "9e69b802-aa4c-442f-813c-a792336a462d",
   "metadata": {},
   "outputs": [],
   "source": [
    "import subprocess\n",
    "import re\n",
    "from pathlib import Path\n",
    "import time"
   ]
  },
  {
   "cell_type": "code",
   "execution_count": 134,
   "id": "e12c1cf0-f502-4686-97d5-bb9afed5ed22",
   "metadata": {},
   "outputs": [],
   "source": [
    "# === Configuration ===\n",
    "run_number = \"233706\"\n",
    "\n",
    "# - paths -\n",
    "data_path = \"/xustrg0/2025A8039/\"\n",
    "process_path = \"/UserData/girelli/sacla2024/processed/\"\n",
    "output_path = process_path\n",
    "mask_path = '/home/seoyoung/2025_05_SACLA/results/avg_img/run232536_avg_img_mask.npy'\n",
    "poni_file =  '/home/seoyoung/2025_05_SACLA/results/avg_img/run232536_avg_img.poni'\n",
    "\n",
    "#process_path+\"utilities/geometry_test.poni\"\n",
    "\n",
    "# -- optional arguments -- \n",
    "nbins = 100  # number of q-bins\n",
    "n_phi = 36   # number of phi-bins\n",
    "n_chunks = 10  # total number of chunks"
   ]
  },
  {
   "cell_type": "code",
   "execution_count": 135,
   "id": "e6c20899-aa3c-4021-8063-4ee7dcdb812c",
   "metadata": {},
   "outputs": [
    {
     "name": "stdout",
     "output_type": "stream",
     "text": [
      "Array job submitted with ID: 8427935\n",
      "Merge job submitted successfully with job ID: 8427936.fep01\n"
     ]
    },
    {
     "data": {
      "text/plain": [
       "CompletedProcess(args=['python', 'process.py', '--data_path', '/xustrg0/2025A8039/', '--run_number', '233706', '--mask_path', '/home/seoyoung/2025_05_SACLA/results/avg_img/run232536_avg_img_mask.npy', '--output_path', '/UserData/girelli/sacla2024/processed/', '--poni_file', '/home/seoyoung/2025_05_SACLA/results/avg_img/run232536_avg_img.poni', '--nbins', '100', '--n_phi', '36', '--n_chunks', '10'], returncode=0)"
      ]
     },
     "execution_count": 135,
     "metadata": {},
     "output_type": "execute_result"
    }
   ],
   "source": [
    "subprocess.run([\n",
    "    \"python\", \"process.py\",\n",
    "    \"--data_path\", data_path,\n",
    "    \"--run_number\", run_number,\n",
    "    \"--mask_path\", mask_path,\n",
    "    \"--output_path\", output_path,\n",
    "    \"--poni_file\", poni_file,\n",
    "    \"--nbins\", str(nbins),\n",
    "    \"--n_phi\", str(n_phi),\n",
    "    \"--n_chunks\", str(n_chunks)\n",
    "])\n"
   ]
  },
  {
   "cell_type": "code",
   "execution_count": 136,
   "id": "c57e9336-5904-4f69-89c1-066fbd444283",
   "metadata": {},
   "outputs": [
    {
     "name": "stdout",
     "output_type": "stream",
     "text": [
      "\n",
      "fep01: \n",
      "                                                            Req'd  Req'd   Elap\n",
      "Job ID          Username Queue    Jobname    SessID NDS TSK Memory Time  S Time\n",
      "--------------- -------- -------- ---------- ------ --- --- ------ ----- - -----\n",
      "8427935[].fep01 girelli  serial   iq_chunk      --    1   1    4gb 00:30 B   -- \n",
      "8427936.fep01   girelli  serial   combine_c*    --    1   1    4gb 00:10 H   -- \n"
     ]
    }
   ],
   "source": [
    "# === Check job status ===\n",
    "!qstat -u girelli"
   ]
  },
  {
   "cell_type": "code",
   "execution_count": 137,
   "id": "587a2ca2-50b2-4d8c-b99d-339dc912be3a",
   "metadata": {},
   "outputs": [
    {
     "name": "stdout",
     "output_type": "stream",
     "text": [
      "Iq_233545_combined.h5  Iq_233605_combined.h5  Iq_233625_combined.h5  processed\n",
      "Iq_233591_combined.h5  Iq_233615_combined.h5  Iq_233706_chunk08.h5\n",
      "Iq_233603_combined.h5  Iq_233620_combined.h5  Iq_233706_combined.h5\n"
     ]
    }
   ],
   "source": [
    "!ls  /UserData/girelli/sacla2024/processed"
   ]
  },
  {
   "cell_type": "code",
   "execution_count": 102,
   "id": "ec6f28d5-fd74-48c1-bd23-221ed82b2551",
   "metadata": {},
   "outputs": [
    {
     "name": "stdout",
     "output_type": "stream",
     "text": [
      "rm: cannot remove '/UserData/girelli/sacla2024/processed/processed/': Is a directory\n"
     ]
    }
   ],
   "source": []
  },
  {
   "cell_type": "code",
   "execution_count": null,
   "id": "fa572b8d-af8f-4de1-9137-3bace77d89fb",
   "metadata": {},
   "outputs": [],
   "source": []
  }
 ],
 "metadata": {
  "kernelspec": {
   "display_name": "Python 3 (ipykernel)",
   "language": "python",
   "name": "python3"
  },
  "language_info": {
   "codemirror_mode": {
    "name": "ipython",
    "version": 3
   },
   "file_extension": ".py",
   "mimetype": "text/x-python",
   "name": "python",
   "nbconvert_exporter": "python",
   "pygments_lexer": "ipython3",
   "version": "3.7.9"
  }
 },
 "nbformat": 4,
 "nbformat_minor": 5
}
