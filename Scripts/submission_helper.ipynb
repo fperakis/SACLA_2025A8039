{
 "cells": [
  {
   "cell_type": "code",
   "execution_count": 25,
   "id": "9e69b802-aa4c-442f-813c-a792336a462d",
   "metadata": {},
   "outputs": [],
   "source": [
    "import subprocess\n"
   ]
  },
  {
   "cell_type": "code",
   "execution_count": 26,
   "id": "e12c1cf0-f502-4686-97d5-bb9afed5ed22",
   "metadata": {},
   "outputs": [],
   "source": [
    "# --- User-defined parameters ---\n",
    "data_path = \"/xustrg0/2024B8049\"\n",
    "run_number = \"222753\"\n",
    "mask_path = \"/UserData/fperakis/test_data_2025/utilities/empty_mask.npy\"\n",
    "output_path = \"/UserData/fperakis/test_data_2025/processed\"\n",
    "poni_file = \"/UserData/fperakis/test_data_2025/utilities/geometry_final.poni\"\n",
    "\n",
    "nbins = 150\n",
    "n_phi = 72\n",
    "n_chunks = 10\n",
    "\n"
   ]
  },
  {
   "cell_type": "code",
   "execution_count": 27,
   "id": "dd7355f3-2b69-484c-8667-032eb626dea0",
   "metadata": {},
   "outputs": [
    {
     "name": "stdout",
     "output_type": "stream",
     "text": [
      "Submitting chunk 1/10...\n",
      "  ✔ Job ID = 8418845.fep01\n",
      "Submitting chunk 2/10...\n",
      "  ✔ Job ID = 8418846.fep01\n",
      "Submitting chunk 3/10...\n",
      "  ✔ Job ID = 8418847.fep01\n",
      "Submitting chunk 4/10...\n",
      "  ✔ Job ID = 8418848.fep01\n",
      "Submitting chunk 5/10...\n",
      "  ✔ Job ID = 8418849.fep01\n",
      "Submitting chunk 6/10...\n",
      "  ✔ Job ID = 8418850.fep01\n",
      "Submitting chunk 7/10...\n",
      "  ✔ Job ID = 8418851.fep01\n",
      "Submitting chunk 8/10...\n",
      "  ✔ Job ID = 8418852.fep01\n",
      "Submitting chunk 9/10...\n",
      "  ✔ Job ID = 8418853.fep01\n",
      "Submitting chunk 10/10...\n",
      "  ✔ Job ID = 8418854.fep01\n"
     ]
    }
   ],
   "source": [
    "pbs_script = \"submit_chunk.pbs\"\n",
    "job_ids = []  # store submitted job IDs\n",
    "\n",
    "# --- Submit jobs for each chunk ---\n",
    "for chunk_index in range(n_chunks):\n",
    "    job_command = [\n",
    "        \"qsub\",\n",
    "        \"-v\",\n",
    "        f\"DATA_PATH={data_path},\"\n",
    "        f\"RUN_NUMBER={run_number},\"\n",
    "        f\"MASK_PATH={mask_path},\"\n",
    "        f\"OUTPUT_PATH={output_path},\"\n",
    "        f\"PONI_FILE={poni_file},\"\n",
    "        f\"NBINS={nbins},\"\n",
    "        f\"N_PHI={n_phi},\"\n",
    "        f\"N_CHUNKS={n_chunks},\"\n",
    "        f\"CHUNK_INDEX={chunk_index}\",\n",
    "        pbs_script\n",
    "    ]\n",
    "    \n",
    "    print(f\"Submitting chunk {chunk_index + 1}/{n_chunks}...\")\n",
    "    result = subprocess.run(job_command, capture_output=True, text=True)\n",
    "    \n",
    "    if result.returncode == 0:\n",
    "        job_id = result.stdout.strip()\n",
    "        job_ids.append(job_id)\n",
    "        print(f\"  ✔ Job ID = {job_id}\")\n",
    "    else:\n",
    "        print(f\"  ✘ Failed to submit chunk {chunk_index}: {result.stderr.strip()}\")\n"
   ]
  },
  {
   "cell_type": "code",
   "execution_count": 28,
   "id": "af9deb64-f433-4c16-936d-797a6d1029b8",
   "metadata": {},
   "outputs": [
    {
     "name": "stdout",
     "output_type": "stream",
     "text": [
      "\n",
      "Checking status of submitted jobs...\n",
      "\n",
      "Job id            Name             User              Time Use S Queue\n",
      "----------------  ---------------- ----------------  -------- - -----\n",
      "8417182.fep01     STDIN            guest01           00:20:34 R serial          \n",
      "8417951.fep01     STDIN            hirotake_itoh     01:42:28 R serial          \n",
      "8417959.fep01     Jupyter          kyoto-yao         00:30:38 R serial          \n",
      "8418402.fep01     CT_refine_rices* nakasako          687:30:* R psmall          \n",
      "8418739.fep01     CT_refine_toner* nakasako          206:07:* R psmall          \n",
      "8418740.fep01     gone.sh          n-manjo           459:27:* R psmall          \n",
      "8418755.fep01     ood_jupyter      daqmaster         00:00:07 R serial          \n",
      "8418756.fep01     ood_ImageJ       kuwata_k          00:00:18 R serial          \n",
      "8418757.fep01     ood_ImageJ       kuwata_k          00:00:26 R serial          \n",
      "8418758.fep01     ood_jupyter      kuwata_k          00:00:02 R serial          \n",
      "8418794.fep01     gone.sh          n-manjo           07:34:31 R psmall          \n",
      "8418845.fep01     iq_chunk         fperakis          00:00:00 R serial          \n",
      "8418846.fep01     iq_chunk         fperakis          00:00:00 R serial          \n",
      "8418847.fep01     iq_chunk         fperakis          00:00:00 R serial          \n",
      "8418848.fep01     iq_chunk         fperakis          00:00:00 R serial          \n",
      "8418849.fep01     iq_chunk         fperakis          00:00:00 R serial          \n",
      "8418850.fep01     iq_chunk         fperakis          00:00:00 R serial          \n",
      "8418851.fep01     iq_chunk         fperakis          00:00:00 R serial          \n",
      "8418852.fep01     iq_chunk         fperakis          00:00:00 R serial          \n",
      "8418853.fep01     iq_chunk         fperakis          00:00:00 R serial          \n",
      "8418854.fep01     iq_chunk         fperakis          00:00:00 R serial          \n",
      "\n"
     ]
    }
   ],
   "source": [
    "# --- Check job status ---\n",
    "print(\"\\nChecking status of submitted jobs...\\n\")\n",
    "qstat_result = subprocess.run([\"qstat\"], capture_output=True, text=True)\n",
    "print(qstat_result.stdout)"
   ]
  },
  {
   "cell_type": "code",
   "execution_count": 29,
   "id": "8c554f42-1cd2-4dfe-97f8-f9ffba093e46",
   "metadata": {},
   "outputs": [
    {
     "name": "stdout",
     "output_type": "stream",
     "text": [
      "\n",
      "🔍 Checking status of submitted jobs...\n",
      "\n",
      "Job id            Name             User              Time Use S Queue\n",
      "---------------------------------------------------------------------\n",
      "8418845.fep01     iq_chunk         fperakis          00:00:01 E serial          \n",
      "8418846.fep01     iq_chunk         fperakis          00:00:01 E serial          \n",
      "8418847.fep01     iq_chunk         fperakis          00:00:01 E serial          \n",
      "8418849.fep01     iq_chunk         fperakis          00:00:01 E serial          \n",
      "8418850.fep01     iq_chunk         fperakis          00:00:01 E serial          \n",
      "8418851.fep01     iq_chunk         fperakis          00:00:01 E serial          \n",
      "8418852.fep01     iq_chunk         fperakis          00:00:01 E serial          \n",
      "8418853.fep01     iq_chunk         fperakis          00:00:01 E serial          \n",
      "8418854.fep01     iq_chunk         fperakis          00:00:01 E serial          \n"
     ]
    }
   ],
   "source": [
    "# --- Filtered qstat output for submitted jobs ---\n",
    "print(\"\\n🔍 Checking status of submitted jobs...\\n\")\n",
    "qstat_result = subprocess.run([\"qstat\"], capture_output=True, text=True)\n",
    "qstat_lines = qstat_result.stdout.splitlines()\n",
    "\n",
    "# Print the header\n",
    "if qstat_lines:\n",
    "    print(qstat_lines[0])\n",
    "    print(\"-\" * len(qstat_lines[0]))\n",
    "\n",
    "# Print only matching job lines\n",
    "for line in qstat_lines[1:]:\n",
    "    for job_id in job_ids:\n",
    "        if job_id.split('.')[0] in line:  # match only the numeric part\n",
    "            print(line)"
   ]
  },
  {
   "cell_type": "code",
   "execution_count": null,
   "id": "a2c88f52-6b6d-4618-a39b-d60655928e8b",
   "metadata": {},
   "outputs": [],
   "source": []
  }
 ],
 "metadata": {
  "kernelspec": {
   "display_name": "Python 3 (ipykernel)",
   "language": "python",
   "name": "python3"
  },
  "language_info": {
   "codemirror_mode": {
    "name": "ipython",
    "version": 3
   },
   "file_extension": ".py",
   "mimetype": "text/x-python",
   "name": "python",
   "nbconvert_exporter": "python",
   "pygments_lexer": "ipython3",
   "version": "3.7.9"
  }
 },
 "nbformat": 4,
 "nbformat_minor": 5
}
