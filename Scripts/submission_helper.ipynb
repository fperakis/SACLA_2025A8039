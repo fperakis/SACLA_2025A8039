{
 "cells": [
  {
   "cell_type": "code",
   "execution_count": 1,
   "id": "9e69b802-aa4c-442f-813c-a792336a462d",
   "metadata": {},
   "outputs": [],
   "source": [
    "import subprocess\n",
    "import re"
   ]
  },
  {
   "cell_type": "code",
   "execution_count": 2,
   "id": "e12c1cf0-f502-4686-97d5-bb9afed5ed22",
   "metadata": {},
   "outputs": [],
   "source": [
    "# === Configuration ===\n",
    "data_path = \"/xustrg0/2024B8049\"\n",
    "run_number = \"222753\"\n",
    "mask_path = \"/UserData/fperakis/test_data_2025/utilities/empty_mask.npy\"\n",
    "output_path = \"/UserData/fperakis/test_data_2025/processed\"\n",
    "poni_file = \"/UserData/fperakis/test_data_2025/utilities/geometry_test.poni\"\n",
    "nbins = 150\n",
    "n_phi = 72\n",
    "n_chunks = 10  # total number of chunks"
   ]
  },
  {
   "cell_type": "code",
   "execution_count": 17,
   "id": "c57e9336-5904-4f69-89c1-066fbd444283",
   "metadata": {},
   "outputs": [
    {
     "name": "stdout",
     "output_type": "stream",
     "text": [
      "\n",
      "Array job submitted with ID: 8418963\n"
     ]
    }
   ],
   "source": [
    "# === Submit array job ===\n",
    "env_vars = \",\".join([\n",
    "    f\"DATA_PATH={data_path}\",\n",
    "    f\"RUN_NUMBER={run_number}\",\n",
    "    f\"MASK_PATH={mask_path}\",\n",
    "    f\"OUTPUT_PATH={output_path}\",\n",
    "    f\"PONI_FILE={poni_file}\",\n",
    "    f\"NBINS={nbins}\",\n",
    "    f\"N_PHI={n_phi}\",\n",
    "    f\"N_CHUNKS={n_chunks}\"\n",
    "])\n",
    "\n",
    "submit_cmd = [\n",
    "    \"qsub\", \"-J\", f\"0-{n_chunks-1}\",\n",
    "    \"-v\", env_vars,\n",
    "    \"submit_chunk.pbs\"\n",
    "]\n",
    "\n",
    "array_result = subprocess.run(submit_cmd, capture_output=True, text=True)\n",
    "\n",
    "# === Extract array job ID ===\n",
    "match = re.search(r\"(\\d+)\", array_result.stdout)\n",
    "if not match:\n",
    "    raise RuntimeError(\"Failed to parse array job ID. Output:\\n\" + array_result.stdout)\n",
    "\n",
    "array_job_id = match.group(1)\n",
    "print(f\"\\nArray job submitted with ID: {array_job_id}\")\n"
   ]
  },
  {
   "cell_type": "code",
   "execution_count": 20,
   "id": "58ff3aef-fa05-45d2-97b8-e87e96b1fd31",
   "metadata": {},
   "outputs": [
    {
     "name": "stdout",
     "output_type": "stream",
     "text": [
      "Submitting merge job after array job ID: 8418963\n"
     ]
    }
   ],
   "source": [
    "print(f\"Submitting merge job after array job ID: {array_job_id}\")"
   ]
  },
  {
   "cell_type": "code",
   "execution_count": 25,
   "id": "36431e6b-79ba-4c29-8f82-9ba830ccae54",
   "metadata": {},
   "outputs": [
    {
     "name": "stdout",
     "output_type": "stream",
     "text": [
      "\n",
      "Submitting merge job...\n",
      "Merge job submitted successfully.\n"
     ]
    }
   ],
   "source": [
    "# === Submit dependent merge job ===\n",
    "merge_result = subprocess.run(\n",
    "    [\"qsub\", \"-W\", f\"depend=afterok:{array_job_id}\", \"combine_chunks.pbs\"],\n",
    "    capture_output=True,\n",
    "    text=True\n",
    ")\n",
    "\n",
    "print(\"\\nSubmitting merge job...\")\n",
    "# print(\"STDOUT:\")\n",
    "# print(merge_result.stdout)\n",
    "# print(\"STDERR:\")\n",
    "# print(merge_result.stderr)\n",
    "\n",
    "if merge_result.returncode != 0:\n",
    "    raise RuntimeError(\"Failed to submit merge job:\\n\" + merge_result.stderr)\n",
    "\n",
    "print(\"Merge job submitted successfully.\")"
   ]
  },
  {
   "cell_type": "code",
   "execution_count": 22,
   "id": "d799ab6b-92c8-489d-8954-2b2bfcb9240c",
   "metadata": {},
   "outputs": [],
   "source": []
  },
  {
   "cell_type": "code",
   "execution_count": null,
   "id": "b44d2b34-6f50-4c9f-9f3c-333e025bc44e",
   "metadata": {},
   "outputs": [],
   "source": []
  }
 ],
 "metadata": {
  "kernelspec": {
   "display_name": "Python 3 (ipykernel)",
   "language": "python",
   "name": "python3"
  },
  "language_info": {
   "codemirror_mode": {
    "name": "ipython",
    "version": 3
   },
   "file_extension": ".py",
   "mimetype": "text/x-python",
   "name": "python",
   "nbconvert_exporter": "python",
   "pygments_lexer": "ipython3",
   "version": "3.7.9"
  }
 },
 "nbformat": 4,
 "nbformat_minor": 5
}
