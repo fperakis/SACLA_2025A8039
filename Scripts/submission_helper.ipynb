{
 "cells": [
  {
   "cell_type": "code",
   "execution_count": 3,
   "id": "9e69b802-aa4c-442f-813c-a792336a462d",
   "metadata": {
    "tags": []
   },
   "outputs": [],
   "source": [
    "import subprocess\n",
    "import re\n",
    "from pathlib import Path\n",
    "import time\n",
    "from multiprocessing import cpu_count"
   ]
  },
  {
   "cell_type": "code",
   "execution_count": 4,
   "id": "e12c1cf0-f502-4686-97d5-bb9afed5ed22",
   "metadata": {
    "tags": []
   },
   "outputs": [],
   "source": [
    "# === Configuration ===\n",
    "# run_numbers = [str(i) for i in range(234095, 234149)] + [\"234025\", \"234042\"]\n",
    "run_numbers = [\"234149\"]\n",
    "\n",
    "# - paths -\n",
    "data_path = \"/xustrg0/2025A8039\"\n",
    "process_path = \"/UserData/andronis/test_data/\"\n",
    "output_path = process_path+\"processed\"\n",
    "mask_path = \"/home/andronis/exp/SACLA_2025A8039/Analysis/mask.npy\"\n",
    "poni_file = \"/home/seoyoung/2025_05_SACLA/results/avg_img/run234059_avg_img.poni\"\n",
    "\n",
    "# -- optional arguments -- \n",
    "nbins = 250  # number of q-bins\n",
    "n_phi = 36   # number of phi-bins\n",
    "n_chunks = 10  # total number of chunks"
   ]
  },
  {
   "cell_type": "code",
   "execution_count": 5,
   "id": "e46c1a2b-fb34-43d0-9cac-c14e9ca17093",
   "metadata": {
    "tags": []
   },
   "outputs": [
    {
     "data": {
      "text/plain": [
       "1"
      ]
     },
     "execution_count": 5,
     "metadata": {},
     "output_type": "execute_result"
    }
   ],
   "source": [
    "len(run_numbers)"
   ]
  },
  {
   "cell_type": "code",
   "execution_count": 6,
   "id": "e6c20899-aa3c-4021-8063-4ee7dcdb812c",
   "metadata": {
    "scrolled": true,
    "tags": []
   },
   "outputs": [
    {
     "name": "stdout",
     "output_type": "stream",
     "text": [
      "Array job submitted with ID: 8558649\n"
     ]
    }
   ],
   "source": [
    "for run_number in run_numbers:\n",
    "    subprocess.run([\n",
    "        \"python\", \"process_parallel.py\",\n",
    "        \"--data_path\", data_path,\n",
    "        \"--run_number\", run_number,\n",
    "        \"--mask_path\", mask_path,\n",
    "        \"--output_path\", output_path,\n",
    "        \"--poni_file\", poni_file,\n",
    "        \"--nbins\", str(nbins),\n",
    "        \"--n_phi\", str(n_phi),\n",
    "        \"--n_chunks\", str(n_chunks)\n",
    "    ])\n"
   ]
  },
  {
   "cell_type": "code",
   "execution_count": 10,
   "id": "c57e9336-5904-4f69-89c1-066fbd444283",
   "metadata": {
    "scrolled": true,
    "tags": []
   },
   "outputs": [
    {
     "name": "stdout",
     "output_type": "stream",
     "text": [
      "\n",
      "fep01: \n",
      "                                                            Req'd  Req'd   Elap\n",
      "Job ID          Username Queue    Jobname    SessID NDS TSK Memory Time  S Time\n",
      "--------------- -------- -------- ---------- ------ --- --- ------ ----- - -----\n",
      "8558649.fep01   andronis serial   iq_chunk   273544   1  48   64gb 10:00 R 00:01\n"
     ]
    }
   ],
   "source": [
    "# === Check job status ===\n",
    "!qstat -f -a -u andronis"
   ]
  },
  {
   "cell_type": "code",
   "execution_count": 11,
   "id": "587a2ca2-50b2-4d8c-b99d-339dc912be3a",
   "metadata": {
    "tags": []
   },
   "outputs": [
    {
     "name": "stdout",
     "output_type": "stream",
     "text": [
      "total 29G\n",
      "drwxr-xr-x 2 andronis girelli 4.0K Jun 11 23:49 converted\n",
      "-rw-r--r-- 1 andronis girelli 412M Jun 25 01:25 Iq_234025_combined.h5\n",
      "-rw-r--r-- 1 andronis girelli 236M Jul  9 09:57 Iq_234025.h5\n",
      "-rw-r--r-- 1 andronis girelli 412M Jun 25 01:27 Iq_234042_combined.h5\n",
      "-rw-r--r-- 1 andronis girelli 236M Jul  9 10:08 Iq_234042.h5\n",
      "-rw-r--r-- 1 andronis girelli  69M Jul  7 23:00 Iq_234095_combined.h5\n",
      "-rw-r--r-- 1 andronis girelli  41M Jul  9 00:27 Iq_234095.h5\n",
      "-rw-r--r-- 1 andronis girelli 412M Jun 25 00:44 Iq_234096_combined.h5\n",
      "-rw-r--r-- 1 andronis girelli 236M Jul  9 02:07 Iq_234096.h5\n",
      "-rw-r--r-- 1 andronis girelli 412M Jun 25 00:46 Iq_234097_combined.h5\n",
      "-rw-r--r-- 1 andronis girelli 236M Jul  9 02:07 Iq_234097.h5\n",
      "-rw-r--r-- 1 andronis girelli 412M Jun 25 00:46 Iq_234098_combined.h5\n",
      "-rw-r--r-- 1 andronis girelli 236M Jul  9 02:06 Iq_234098.h5\n",
      "-rw-r--r-- 1 andronis girelli 412M Jun 25 00:47 Iq_234099_combined.h5\n",
      "-rw-r--r-- 1 andronis girelli 236M Jul  9 02:05 Iq_234099.h5\n",
      "-rw-r--r-- 1 andronis girelli 282M Jul  8 01:20 Iq_234100_combined.h5\n",
      "-rw-r--r-- 1 andronis girelli 163M Jul  9 01:30 Iq_234100.h5\n",
      "-rw-r--r-- 1 andronis girelli  12M Jul  8 00:44 Iq_234101_combined.h5\n",
      "-rw-r--r-- 1 andronis girelli 7.6M Jul  9 00:12 Iq_234101.h5\n",
      "-rw-r--r-- 1 andronis girelli  60M Jul  8 01:02 Iq_234102_combined.h5\n",
      "-rw-r--r-- 1 andronis girelli  36M Jul  9 00:26 Iq_234102.h5\n",
      "-rw-r--r-- 1 andronis girelli 412M Jun 25 00:49 Iq_234103_combined.h5\n",
      "-rw-r--r-- 1 andronis girelli 236M Jul  9 02:12 Iq_234103.h5\n",
      "-rw-r--r-- 1 andronis girelli 412M Jun 25 00:50 Iq_234104_combined.h5\n",
      "-rw-r--r-- 1 andronis girelli 236M Jul  9 02:06 Iq_234104.h5\n",
      "-rw-r--r-- 1 andronis girelli 412M Jun 25 00:51 Iq_234105_combined.h5\n",
      "-rw-r--r-- 1 andronis girelli 236M Jul  9 02:12 Iq_234105.h5\n",
      "-rw-r--r-- 1 andronis girelli 412M Jun 25 00:52 Iq_234106_combined.h5\n",
      "-rw-r--r-- 1 andronis girelli 236M Jul  9 02:28 Iq_234106.h5\n",
      "-rw-r--r-- 1 andronis girelli  43M Jul  8 02:52 Iq_234107_combined.h5\n",
      "-rw-r--r-- 1 andronis girelli  26M Jul  9 00:40 Iq_234107.h5\n",
      "-rw-r--r-- 1 andronis girelli  92M Jul  8 03:07 Iq_234108_combined.h5\n",
      "-rw-r--r-- 1 andronis girelli  53M Jul  9 01:07 Iq_234108.h5\n",
      "-rw-r--r-- 1 andronis girelli 412M Jun 25 00:53 Iq_234109_combined.h5\n",
      "-rw-r--r-- 1 andronis girelli 236M Jul  9 03:05 Iq_234109.h5\n",
      "-rw-r--r-- 1 andronis girelli 412M Jun 25 00:54 Iq_234110_combined.h5\n",
      "-rw-r--r-- 1 andronis girelli 236M Jul  9 03:26 Iq_234110.h5\n",
      "-rw-r--r-- 1 andronis girelli 412M Jun 25 00:55 Iq_234111_combined.h5\n",
      "-rw-r--r-- 1 andronis girelli 236M Jul  9 03:56 Iq_234111.h5\n",
      "-rw-r--r-- 1 andronis girelli 412M Jun 25 00:56 Iq_234112_combined.h5\n",
      "-rw-r--r-- 1 andronis girelli 236M Jul  9 03:58 Iq_234112.h5\n",
      "-rw-r--r-- 1 andronis girelli 412M Jun 25 00:57 Iq_234113_combined.h5\n",
      "-rw-r--r-- 1 andronis girelli 236M Jul  9 04:05 Iq_234113.h5\n",
      "-rw-r--r-- 1 andronis girelli 412M Jun 25 00:58 Iq_234114_combined.h5\n",
      "-rw-r--r-- 1 andronis girelli 236M Jul  9 04:13 Iq_234114.h5\n",
      "-rw-r--r-- 1 andronis girelli 412M Jun 25 00:59 Iq_234115_combined.h5\n",
      "-rw-r--r-- 1 andronis girelli 236M Jul  9 04:10 Iq_234115.h5\n",
      "-rw-r--r-- 1 andronis girelli 412M Jun 25 00:59 Iq_234116_combined.h5\n",
      "-rw-r--r-- 1 andronis girelli 236M Jul  9 04:11 Iq_234116.h5\n",
      "-rw-r--r-- 1 andronis girelli 412M Jun 25 01:01 Iq_234117_combined.h5\n",
      "-rw-r--r-- 1 andronis girelli 236M Jul  9 04:08 Iq_234117.h5\n",
      "-rw-r--r-- 1 andronis girelli 206M Jul  8 07:48 Iq_234118_combined.h5\n",
      "-rw-r--r-- 1 andronis girelli 118M Jul  9 03:28 Iq_234118.h5\n",
      "-rw-r--r-- 1 andronis girelli 412M Jun 25 01:02 Iq_234119_combined.h5\n",
      "-rw-r--r-- 1 andronis girelli 236M Jul  9 05:06 Iq_234119.h5\n",
      "-rw-r--r-- 1 andronis girelli 412M Jun 25 01:03 Iq_234120_combined.h5\n",
      "-rw-r--r-- 1 andronis girelli 236M Jul  9 05:24 Iq_234120.h5\n",
      "-rw-r--r-- 1 andronis girelli 412M Jun 25 01:04 Iq_234121_combined.h5\n",
      "-rw-r--r-- 1 andronis girelli 236M Jul  9 05:25 Iq_234121.h5\n",
      "-rw-r--r-- 1 andronis girelli 206M Jul  8 09:45 Iq_234122_combined.h5\n",
      "-rw-r--r-- 1 andronis girelli 118M Jul  9 04:55 Iq_234122.h5\n",
      "-rw-r--r-- 1 andronis girelli 137M Jul  8 09:50 Iq_234123_combined.h5\n",
      "-rw-r--r-- 1 andronis girelli  81M Jul  9 04:36 Iq_234123.h5\n",
      "-rw-r--r-- 1 andronis girelli 412M Jun 25 01:06 Iq_234124_combined.h5\n",
      "-rw-r--r-- 1 andronis girelli 236M Jul  9 06:08 Iq_234124.h5\n",
      "-rw-r--r-- 1 andronis girelli 412M Jun 25 01:06 Iq_234125_combined.h5\n",
      "-rw-r--r-- 1 andronis girelli 236M Jul  9 06:07 Iq_234125.h5\n",
      "-rw-r--r-- 1 andronis girelli 224M Jul  8 11:14 Iq_234126_combined.h5\n",
      "-rw-r--r-- 1 andronis girelli 128M Jul  9 05:18 Iq_234126.h5\n",
      "-rw-r--r-- 1 andronis girelli 412M Jun 25 01:08 Iq_234127_combined.h5\n",
      "-rw-r--r-- 1 andronis girelli 236M Jul  9 06:16 Iq_234127.h5\n",
      "-rw-r--r-- 1 andronis girelli 206M Jul  8 12:20 Iq_234128_combined.h5\n",
      "-rw-r--r-- 1 andronis girelli 118M Jul  9 05:16 Iq_234128.h5\n",
      "-rw-r--r-- 1 andronis girelli 206M Jul  8 12:38 Iq_234129_combined.h5\n",
      "-rw-r--r-- 1 andronis girelli 118M Jul  9 05:34 Iq_234129.h5\n",
      "-rw-r--r-- 1 andronis girelli 206M Jul  8 13:05 Iq_234130_combined.h5\n",
      "-rw-r--r-- 1 andronis girelli 118M Jul  9 05:55 Iq_234130.h5\n",
      "-rw-r--r-- 1 andronis girelli 146M Jul  8 13:19 Iq_234131_combined.h5\n",
      "-rw-r--r-- 1 andronis girelli  83M Jul  9 05:49 Iq_234131.h5\n",
      "-rw-r--r-- 1 andronis girelli 412M Jun 25 01:11 Iq_234132_combined.h5\n",
      "-rw-r--r-- 1 andronis girelli 236M Jul  9 07:20 Iq_234132.h5\n",
      "-rw-r--r-- 1 andronis girelli 239M Jul  8 14:21 Iq_234133_combined.h5\n",
      "-rw-r--r-- 1 andronis girelli 138M Jul  9 06:28 Iq_234133.h5\n",
      "-rw-r--r-- 1 andronis girelli 412M Jun 25 01:13 Iq_234134_combined.h5\n",
      "-rw-r--r-- 1 andronis girelli 236M Jul  9 07:17 Iq_234134.h5\n",
      "-rw-r--r-- 1 andronis girelli 412M Jun 25 01:13 Iq_234135_combined.h5\n",
      "-rw-r--r-- 1 andronis girelli 236M Jul  9 07:17 Iq_234135.h5\n",
      "-rw-r--r-- 1 andronis girelli 412M Jun 25 01:14 Iq_234136_combined.h5\n",
      "-rw-r--r-- 1 andronis girelli 236M Jul  9 07:25 Iq_234136.h5\n",
      "-rw-r--r-- 1 andronis girelli 255M Jul  8 16:16 Iq_234137_combined.h5\n",
      "-rw-r--r-- 1 andronis girelli 146M Jul  9 07:02 Iq_234137.h5\n",
      "-rw-r--r-- 1 andronis girelli 412M Jun 25 01:16 Iq_234138_combined.h5\n",
      "-rw-r--r-- 1 andronis girelli 236M Jul  9 07:52 Iq_234138.h5\n",
      "-rw-r--r-- 1 andronis girelli  79M Jul  8 16:38 Iq_234139_combined.h5\n",
      "-rw-r--r-- 1 andronis girelli  46M Jul  9 06:28 Iq_234139.h5\n",
      "-rw-r--r-- 1 andronis girelli 412M Jun 25 01:17 Iq_234140_combined.h5\n",
      "-rw-r--r-- 1 andronis girelli 236M Jul  9 08:04 Iq_234140.h5\n",
      "-rw-r--r-- 1 andronis girelli 412M Jun 25 01:18 Iq_234141_combined.h5\n",
      "-rw-r--r-- 1 andronis girelli 236M Jul  9 08:14 Iq_234141.h5\n",
      "-rw-r--r-- 1 andronis girelli 412M Jun 25 01:19 Iq_234142_combined.h5\n",
      "-rw-r--r-- 1 andronis girelli 236M Jul  9 08:29 Iq_234142.h5\n",
      "-rw-r--r-- 1 andronis girelli 412M Jun 25 01:20 Iq_234143_combined.h5\n",
      "-rw-r--r-- 1 andronis girelli 236M Jul  9 08:22 Iq_234143.h5\n",
      "-rw-r--r-- 1 andronis girelli 412M Jun 25 01:21 Iq_234144_combined.h5\n",
      "-rw-r--r-- 1 andronis girelli 236M Jul  9 09:04 Iq_234144.h5\n",
      "-rw-r--r-- 1 andronis girelli 412M Jun 25 01:22 Iq_234145_combined.h5\n",
      "-rw-r--r-- 1 andronis girelli 236M Jul  9 09:17 Iq_234145.h5\n",
      "-rw-r--r-- 1 andronis girelli 412M Jun 25 01:23 Iq_234146_combined.h5\n",
      "-rw-r--r-- 1 andronis girelli 236M Jul  9 09:14 Iq_234146.h5\n",
      "-rw-r--r-- 1 andronis girelli 412M Jun 25 01:24 Iq_234147_combined.h5\n",
      "-rw-r--r-- 1 andronis girelli 236M Jul  9 09:18 Iq_234147.h5\n",
      "-rw-r--r-- 1 andronis girelli 412M Jun 25 01:25 Iq_234148_combined.h5\n",
      "-rw-r--r-- 1 andronis girelli 236M Jul  9 09:22 Iq_234148.h5\n",
      "-rw-r--r-- 1 andronis girelli 5.1M Jul 17 19:12 Iq_234149.h5\n",
      "drwxr-xr-x 2 andronis girelli 4.0K Jun 11 23:49 tags\n"
     ]
    }
   ],
   "source": [
    "!ls -lh /UserData/andronis/test_data/processed/"
   ]
  },
  {
   "cell_type": "code",
   "execution_count": null,
   "id": "fa572b8d-af8f-4de1-9137-3bace77d89fb",
   "metadata": {},
   "outputs": [],
   "source": []
  }
 ],
 "metadata": {
  "kernelspec": {
   "display_name": "Python 3 (ipykernel)",
   "language": "python",
   "name": "python3"
  },
  "language_info": {
   "codemirror_mode": {
    "name": "ipython",
    "version": 3
   },
   "file_extension": ".py",
   "mimetype": "text/x-python",
   "name": "python",
   "nbconvert_exporter": "python",
   "pygments_lexer": "ipython3",
   "version": "3.7.9"
  }
 },
 "nbformat": 4,
 "nbformat_minor": 5
}
