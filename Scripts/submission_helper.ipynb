{
 "cells": [
  {
   "cell_type": "code",
   "execution_count": 16,
   "id": "9e69b802-aa4c-442f-813c-a792336a462d",
   "metadata": {},
   "outputs": [],
   "source": [
    "import subprocess\n",
    "import re\n",
    "from pathlib import Path"
   ]
  },
  {
   "cell_type": "code",
   "execution_count": 3,
   "id": "e12c1cf0-f502-4686-97d5-bb9afed5ed22",
   "metadata": {},
   "outputs": [],
   "source": [
    "# === Configuration ===\n",
    "data_path = \"/xustrg0/2024B8049\"\n",
    "run_number = \"222753\"\n",
    "mask_path = \"/UserData/fperakis/test_data_2025/utilities/empty_mask.npy\"\n",
    "output_path = \"/UserData/fperakis/test_data_2025/processed\"\n",
    "poni_file = \"/UserData/fperakis/test_data_2025/utilities/geometry_test.poni\"\n",
    "nbins = 150\n",
    "n_phi = 72\n",
    "n_chunks = 10  # total number of chunks"
   ]
  },
  {
   "cell_type": "code",
   "execution_count": 5,
   "id": "c57e9336-5904-4f69-89c1-066fbd444283",
   "metadata": {},
   "outputs": [
    {
     "name": "stdout",
     "output_type": "stream",
     "text": [
      "\n",
      "Array job submitted with ID: 8420967\n"
     ]
    }
   ],
   "source": [
    "# === Submit array job ===\n",
    "env_vars = \",\".join([\n",
    "    f\"DATA_PATH={data_path}\",\n",
    "    f\"RUN_NUMBER={run_number}\",\n",
    "    f\"MASK_PATH={mask_path}\",\n",
    "    f\"OUTPUT_PATH={output_path}\",\n",
    "    f\"PONI_FILE={poni_file}\",\n",
    "    f\"NBINS={nbins}\",\n",
    "    f\"N_PHI={n_phi}\",\n",
    "    f\"N_CHUNKS={n_chunks}\"\n",
    "])\n",
    "\n",
    "submit_cmd = [\n",
    "    \"qsub\", \"-J\", f\"0-{n_chunks-1}\",\n",
    "    \"-v\", env_vars,\n",
    "    \"submit_chunk.pbs\"\n",
    "]\n",
    "\n",
    "array_result = subprocess.run(submit_cmd, capture_output=True, text=True)\n",
    "\n",
    "# === Extract array job ID ===\n",
    "match = re.search(r\"(\\d+)\", array_result.stdout)\n",
    "if not match:\n",
    "    raise RuntimeError(\"Failed to parse array job ID. Output:\\n\" + array_result.stdout)\n",
    "\n",
    "array_job_id = match.group(1)\n",
    "print(f\"\\nArray job submitted with ID: {array_job_id}\")\n"
   ]
  },
  {
   "cell_type": "code",
   "execution_count": 18,
   "id": "995a2286-d495-47bc-8469-2fc73251248a",
   "metadata": {},
   "outputs": [
    {
     "name": "stdout",
     "output_type": "stream",
     "text": [
      "Merge job submitted successfully with job ID: 8420970.fep01\n",
      "Check logs: logs/combine_chunks.o8420970\n"
     ]
    }
   ],
   "source": [
    "# === Submit dependent merge job ===\n",
    "\n",
    "# Define parameters\n",
    "output_file = Path(output_path) / f\"Iq_{run_number}_combined.h5\"\n",
    "pbs_script = \"combine_chunks.pbs\"\n",
    "\n",
    "# Submit the PBS job\n",
    "merge_cmd = [\n",
    "    \"qsub\",\n",
    "    \"-v\", f\"INPUT_DIR={Path(output_path)},RUN_NUMBER={run_number},OUTPUT_FILE={output_file}\",\n",
    "    pbs_script\n",
    "]\n",
    "\n",
    "result = subprocess.run(merge_cmd, stdout=subprocess.PIPE, stderr=subprocess.PIPE, text=True)\n",
    "\n",
    "# Output results\n",
    "if result.returncode == 0:\n",
    "    merge_job_id = result.stdout.strip()\n",
    "    print(f\"Merge job submitted successfully with job ID: {merge_job_id}\")\n",
    "    #print(f\"Check logs: logs/combine_chunks.o{merge_job_id.split('.')[0]}\")\n",
    "else:\n",
    "    print(\"Failed to submit merge job.\")\n",
    "    print(result.stderr)"
   ]
  },
  {
   "cell_type": "code",
   "execution_count": null,
   "id": "efe88d4c-9915-4c25-858a-e2a448b09923",
   "metadata": {},
   "outputs": [],
   "source": []
  },
  {
   "cell_type": "code",
   "execution_count": null,
   "id": "ad4ab194-cdcd-423e-a391-c7228b3f43b9",
   "metadata": {},
   "outputs": [],
   "source": []
  },
  {
   "cell_type": "code",
   "execution_count": null,
   "id": "bb712f7a-9775-4d9d-8952-cf592ee73810",
   "metadata": {},
   "outputs": [],
   "source": []
  },
  {
   "cell_type": "code",
   "execution_count": 6,
   "id": "58ff3aef-fa05-45d2-97b8-e87e96b1fd31",
   "metadata": {},
   "outputs": [
    {
     "name": "stdout",
     "output_type": "stream",
     "text": [
      "Submitting merge job after array job ID: 8420967\n"
     ]
    }
   ],
   "source": [
    "print(f\"Submitting merge job after array job ID: {array_job_id}\")"
   ]
  },
  {
   "cell_type": "code",
   "execution_count": 12,
   "id": "36431e6b-79ba-4c29-8f82-9ba830ccae54",
   "metadata": {},
   "outputs": [
    {
     "name": "stdout",
     "output_type": "stream",
     "text": [
      "\n",
      "Submitting merge job...\n",
      "STDOUT:\n",
      "Merge job submitted successfully.\n"
     ]
    }
   ],
   "source": [
    "# === Submit dependent merge job ===\n",
    "merge_result = subprocess.run(\n",
    "    [\"qsub\", \"-W\", f\"depend=afterok:{array_job_id}\", \"combine_chunks.pbs\"],\n",
    "    capture_output=True,\n",
    "    text=True\n",
    ")\n",
    "\n",
    "print(\"\\nSubmitting merge job...\")\n",
    "print(\"STDOUT:\")\n",
    "# print(merge_result.stdout)\n",
    "# print(\"STDERR:\")\n",
    "# print(merge_result.stderr)\n",
    "\n",
    "if merge_result.returncode != 0:\n",
    "    raise RuntimeError(\"Failed to submit merge job:\\n\" + merge_result.stderr)\n",
    "\n",
    "print(\"Merge job submitted successfully.\")"
   ]
  },
  {
   "cell_type": "code",
   "execution_count": 13,
   "id": "d799ab6b-92c8-489d-8954-2b2bfcb9240c",
   "metadata": {},
   "outputs": [
    {
     "name": "stdout",
     "output_type": "stream",
     "text": [
      "Job Status:\n",
      "\n",
      "Job 8420967 finished or not found.\n"
     ]
    }
   ],
   "source": [
    "# Replace or keep these job IDs from earlier submissions\n",
    "job_ids = [array_job_id]\n",
    "if 'merge_job_id' in globals():\n",
    "    job_ids.append(merge_job_id)\n",
    "\n",
    "# Run qstat and filter for relevant jobs\n",
    "qstat = subprocess.run([\"qstat\"], capture_output=True, text=True).stdout\n",
    "print(\"Job Status:\\n\")\n",
    "for jid in job_ids:\n",
    "    lines = [line for line in qstat.splitlines() if jid in line]\n",
    "    print(\"\\n\".join(lines) if lines else f\"Job {jid} finished or not found.\")"
   ]
  },
  {
   "cell_type": "code",
   "execution_count": null,
   "id": "b44d2b34-6f50-4c9f-9f3c-333e025bc44e",
   "metadata": {},
   "outputs": [],
   "source": []
  }
 ],
 "metadata": {
  "kernelspec": {
   "display_name": "Python 3 (ipykernel)",
   "language": "python",
   "name": "python3"
  },
  "language_info": {
   "codemirror_mode": {
    "name": "ipython",
    "version": 3
   },
   "file_extension": ".py",
   "mimetype": "text/x-python",
   "name": "python",
   "nbconvert_exporter": "python",
   "pygments_lexer": "ipython3",
   "version": "3.7.9"
  }
 },
 "nbformat": 4,
 "nbformat_minor": 5
}
