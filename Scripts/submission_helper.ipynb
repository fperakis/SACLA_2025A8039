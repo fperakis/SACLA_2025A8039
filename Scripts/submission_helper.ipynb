{
 "cells": [
  {
   "cell_type": "code",
   "execution_count": 8,
   "id": "9e69b802-aa4c-442f-813c-a792336a462d",
   "metadata": {},
   "outputs": [],
   "source": [
    "import subprocess\n",
    "import re\n",
    "from pathlib import Path\n",
    "import time"
   ]
  },
  {
   "cell_type": "code",
   "execution_count": 9,
   "id": "e12c1cf0-f502-4686-97d5-bb9afed5ed22",
   "metadata": {},
   "outputs": [],
   "source": [
    "# === Configuration ===\n",
    "run_number = \"222753\"\n",
    "\n",
    "# - paths -\n",
    "data_path = \"/xustrg0/2024B8049\"\n",
    "process_path = \"/UserData/fperakis/test_data_2025/\"\n",
    "output_path = process_path+\"processed\"\n",
    "mask_path = process_path+\"utilities/empty_mask.npy\"\n",
    "poni_file = process_path+\"utilities/geometry_test.poni\"\n",
    "\n",
    "# -- optional arguments -- \n",
    "nbins = 100  # number of q-bins\n",
    "n_phi = 36   # number of phi-bins\n",
    "n_chunks = 10  # total number of chunks"
   ]
  },
  {
   "cell_type": "code",
   "execution_count": 10,
   "id": "e6c20899-aa3c-4021-8063-4ee7dcdb812c",
   "metadata": {},
   "outputs": [
    {
     "name": "stdout",
     "output_type": "stream",
     "text": [
      "Array job submitted with ID: 8423250\n",
      "Merge job submitted successfully with job ID: 8423251.fep01\n"
     ]
    },
    {
     "data": {
      "text/plain": [
       "CompletedProcess(args=['python', 'process.py', '--data_path', '/xustrg0/2024B8049', '--run_number', '222753', '--mask_path', '/UserData/fperakis/test_data_2025/utilities/empty_mask.npy', '--output_path', '/UserData/fperakis/test_data_2025/processed', '--poni_file', '/UserData/fperakis/test_data_2025/utilities/geometry_test.poni', '--nbins', '100', '--n_phi', '36', '--n_chunks', '10'], returncode=0)"
      ]
     },
     "execution_count": 10,
     "metadata": {},
     "output_type": "execute_result"
    }
   ],
   "source": [
    "subprocess.run([\n",
    "    \"python\", \"process.py\",\n",
    "    \"--data_path\", data_path,\n",
    "    \"--run_number\", run_number,\n",
    "    \"--mask_path\", mask_path,\n",
    "    \"--output_path\", output_path,\n",
    "    \"--poni_file\", poni_file,\n",
    "    \"--nbins\", str(nbins),\n",
    "    \"--n_phi\", str(n_phi),\n",
    "    \"--n_chunks\", str(n_chunks)\n",
    "])\n"
   ]
  },
  {
   "cell_type": "code",
   "execution_count": 12,
   "id": "c57e9336-5904-4f69-89c1-066fbd444283",
   "metadata": {},
   "outputs": [],
   "source": [
    "# === Check job status ===\n",
    "!qstat -u fperakis"
   ]
  },
  {
   "cell_type": "code",
   "execution_count": 13,
   "id": "587a2ca2-50b2-4d8c-b99d-339dc912be3a",
   "metadata": {},
   "outputs": [
    {
     "name": "stdout",
     "output_type": "stream",
     "text": [
      "total 165M\n",
      "-rw-r--r-- 1 fperakis nilsson 165M May 16 13:24 Iq_222753_combined.h5\n"
     ]
    }
   ],
   "source": [
    "!ls -lh /UserData/fperakis/test_data_2025/processed/"
   ]
  },
  {
   "cell_type": "code",
   "execution_count": null,
   "id": "ec6f28d5-fd74-48c1-bd23-221ed82b2551",
   "metadata": {},
   "outputs": [],
   "source": []
  }
 ],
 "metadata": {
  "kernelspec": {
   "display_name": "Python 3 (ipykernel)",
   "language": "python",
   "name": "python3"
  },
  "language_info": {
   "codemirror_mode": {
    "name": "ipython",
    "version": 3
   },
   "file_extension": ".py",
   "mimetype": "text/x-python",
   "name": "python",
   "nbconvert_exporter": "python",
   "pygments_lexer": "ipython3",
   "version": "3.7.9"
  }
 },
 "nbformat": 4,
 "nbformat_minor": 5
}
