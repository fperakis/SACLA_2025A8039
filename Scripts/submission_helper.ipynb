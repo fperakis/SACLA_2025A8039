{
 "cells": [
  {
   "cell_type": "code",
   "execution_count": 1,
   "id": "9e69b802-aa4c-442f-813c-a792336a462d",
   "metadata": {},
   "outputs": [],
   "source": [
    "import subprocess\n",
    "import re\n",
    "from pathlib import Path\n",
    "import time"
   ]
  },
  {
   "cell_type": "code",
   "execution_count": 2,
   "id": "e12c1cf0-f502-4686-97d5-bb9afed5ed22",
   "metadata": {},
   "outputs": [],
   "source": [
    "# === Configuration ===\n",
    "data_path = \"/xustrg0/2024B8049\"\n",
    "run_number = \"222753\"\n",
    "process_path = \"/UserData/fperakis/test_data_2025/\"\n",
    "mask_path = process_path+\"utilities/empty_mask.npy\"\n",
    "output_path = process_path+\"processed\"\n",
    "poni_file = process_path+\"utilities/geometry_test.poni\"\n",
    "nbins = 150\n",
    "n_phi = 36\n",
    "n_chunks = 10  # total number of chunks"
   ]
  },
  {
   "cell_type": "code",
   "execution_count": 3,
   "id": "e6c20899-aa3c-4021-8063-4ee7dcdb812c",
   "metadata": {},
   "outputs": [
    {
     "name": "stdout",
     "output_type": "stream",
     "text": [
      "Array job submitted with ID: 8423233\n",
      "Merge job submitted successfully with job ID: 8423234.fep01\n"
     ]
    },
    {
     "data": {
      "text/plain": [
       "CompletedProcess(args=['python', 'process.py', '--data_path', '/xustrg0/2024B8049', '--run_number', '222753', '--mask_path', '/UserData/fperakis/test_data_2025/utilities/empty_mask.npy', '--output_path', '/UserData/fperakis/test_data_2025/processed', '--poni_file', '/UserData/fperakis/test_data_2025/utilities/geometry_test.poni', '--nbins', '150', '--n_phi', '36', '--n_chunks', '10'], returncode=0)"
      ]
     },
     "execution_count": 3,
     "metadata": {},
     "output_type": "execute_result"
    }
   ],
   "source": [
    "subprocess.run([\n",
    "    \"python\", \"process.py\",\n",
    "    \"--data_path\", data_path,\n",
    "    \"--run_number\", run_number,\n",
    "    \"--mask_path\", mask_path,\n",
    "    \"--output_path\", output_path,\n",
    "    \"--poni_file\", poni_file,\n",
    "    \"--nbins\", str(nbins),\n",
    "    \"--n_phi\", str(n_phi),\n",
    "    \"--n_chunks\", str(n_chunks)\n",
    "])\n"
   ]
  },
  {
   "cell_type": "code",
   "execution_count": 13,
   "id": "c57e9336-5904-4f69-89c1-066fbd444283",
   "metadata": {},
   "outputs": [
    {
     "name": "stdout",
     "output_type": "stream",
     "text": [
      "\n",
      "Array job submitted with ID: 8422036\n",
      "Merge job submitted successfully with job ID: 8422037.fep01\n"
     ]
    }
   ],
   "source": [
    "# === Submit array job ===\n",
    "env_vars = \",\".join([\n",
    "    f\"DATA_PATH={data_path}\",\n",
    "    f\"RUN_NUMBER={run_number}\",\n",
    "    f\"MASK_PATH={mask_path}\",\n",
    "    f\"OUTPUT_PATH={output_path}\",\n",
    "    f\"PONI_FILE={poni_file}\",\n",
    "    f\"NBINS={nbins}\",\n",
    "    f\"N_PHI={n_phi}\",\n",
    "    f\"N_CHUNKS={n_chunks}\"\n",
    "])\n",
    "\n",
    "submit_cmd = [\n",
    "    \"qsub\", \"-J\", f\"0-{n_chunks-1}\",\n",
    "    \"-v\", env_vars,\n",
    "    \"submit_chunk.pbs\"\n",
    "]\n",
    "\n",
    "array_result = subprocess.run(submit_cmd, capture_output=True, text=True)\n",
    "\n",
    "# === Extract array job ID ===\n",
    "match = re.search(r\"(\\d+)\", array_result.stdout)\n",
    "if not match:\n",
    "    raise RuntimeError(\"Failed to parse array job ID. Output:\\n\" + array_result.stdout)\n",
    "\n",
    "array_job_id = match.group(1)\n",
    "print(f\"\\nArray job submitted with ID: {array_job_id}\")\n",
    "\n",
    "# === Submit dependent merge job ===\n",
    "\n",
    "# Define parameters\n",
    "output_file = Path(output_path) / f\"Iq_{run_number}_combined.h5\"\n",
    "\n",
    "job_id_base = array_job_id+\"[]\" # quick fix, check for inconsistencies\n",
    "\n",
    "# Submit the PBS job\n",
    "merge_cmd = [\n",
    "    \"qsub\",\n",
    "    \"-W\", f\"depend=afterok:{job_id_base}\",\n",
    "    \"-v\", f\"INPUT_DIR={Path(output_path)},RUN_NUMBER={run_number},OUTPUT_FILE={output_file}\",\n",
    "    \"combine_chunks.pbs\"\n",
    "]\n",
    "\n",
    "result = subprocess.run(merge_cmd, capture_output=True, text=True)\n",
    "\n",
    "# Output results\n",
    "if result.returncode == 0:\n",
    "    merge_job_id = result.stdout.strip()\n",
    "    print(f\"Merge job submitted successfully with job ID: {merge_job_id}\")\n",
    "else:\n",
    "    print(\"Failed to submit merge job.\")\n",
    "    print(result.stderr)"
   ]
  },
  {
   "cell_type": "code",
   "execution_count": 4,
   "id": "587a2ca2-50b2-4d8c-b99d-339dc912be3a",
   "metadata": {},
   "outputs": [
    {
     "name": "stdout",
     "output_type": "stream",
     "text": [
      "\n",
      "fep01: \n",
      "                                                            Req'd  Req'd   Elap\n",
      "Job ID          Username Queue    Jobname    SessID NDS TSK Memory Time  S Time\n",
      "--------------- -------- -------- ---------- ------ --- --- ------ ----- - -----\n",
      "8423233[].fep01 fperakis serial   iq_chunk      --    1   1    4gb 00:30 B   -- \n",
      "8423234.fep01   fperakis serial   combine_c*    --    1   1    4gb 00:10 H   -- \n"
     ]
    }
   ],
   "source": [
    "# === Check job status ===\n",
    "!qstat -u fperakis"
   ]
  },
  {
   "cell_type": "code",
   "execution_count": 16,
   "id": "d190384f-ed3d-4e2b-b454-956af98e4037",
   "metadata": {},
   "outputs": [
    {
     "name": "stdout",
     "output_type": "stream",
     "text": [
      "total 248M\n",
      "-rw-r--r-- 1 fperakis nilsson 248M May 15 23:03 Iq_222753_combined.h5\n"
     ]
    }
   ],
   "source": [
    "!ls -lh /UserData/fperakis/test_data_2025/processed/"
   ]
  },
  {
   "cell_type": "code",
   "execution_count": null,
   "id": "d773e06a-189b-452f-9f1d-7267f1938eb2",
   "metadata": {},
   "outputs": [],
   "source": []
  }
 ],
 "metadata": {
  "kernelspec": {
   "display_name": "Python 3 (ipykernel)",
   "language": "python",
   "name": "python3"
  },
  "language_info": {
   "codemirror_mode": {
    "name": "ipython",
    "version": 3
   },
   "file_extension": ".py",
   "mimetype": "text/x-python",
   "name": "python",
   "nbconvert_exporter": "python",
   "pygments_lexer": "ipython3",
   "version": "3.7.9"
  }
 },
 "nbformat": 4,
 "nbformat_minor": 5
}
